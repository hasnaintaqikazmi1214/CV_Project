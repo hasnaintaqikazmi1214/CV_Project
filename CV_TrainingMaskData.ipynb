{
  "nbformat": 4,
  "nbformat_minor": 0,
  "metadata": {
    "colab": {
      "name": "TTDS_TrainMaskData",
      "provenance": [],
      "collapsed_sections": []
    },
    "kernelspec": {
      "display_name": "Python 3",
      "name": "python3"
    }
  },
  "cells": [
    {
      "cell_type": "code",
      "metadata": {
        "colab": {
          "base_uri": "https://localhost:8080/"
        },
        "id": "tYbqq7qQauFz",
        "outputId": "59cd881d-4452-44c1-d927-1ac396be157d"
      },
      "source": [
        "from google.colab import drive\n",
        "drive.mount('/content/drive')"
      ],
      "execution_count": null,
      "outputs": [
        {
          "output_type": "stream",
          "text": [
            "Mounted at /content/drive\n"
          ],
          "name": "stdout"
        }
      ]
    },
    {
      "cell_type": "code",
      "metadata": {
        "colab": {
          "base_uri": "https://localhost:8080/"
        },
        "id": "Z4i9aU40a_9E",
        "outputId": "1bcabf23-e8e5-4163-d470-36dbf0ed2ec3"
      },
      "source": [
        "import cv2,os\n",
        "\n",
        "data_path='/content/drive/MyDrive/dataset2'\n",
        "data_path='/content/drive/MyDrive/MSDS/Face Mask Dataset/Test/WithMask'\n",
        "\n",
        "categories=os.listdir(data_path)\n",
        "labels=[i for i in range(len(categories))]\n",
        "\n",
        "label_dict=dict(zip(categories,labels))\n",
        "\n",
        "print(label_dict)\n",
        "print(categories)\n",
        "print(labels)"
      ],
      "execution_count": null,
      "outputs": [
        {
          "output_type": "stream",
          "text": [
            "{'without mask': 0, 'with mask': 1}\n",
            "['without mask', 'with mask']\n",
            "[0, 1]\n"
          ],
          "name": "stdout"
        }
      ]
    },
    {
      "cell_type": "code",
      "metadata": {
        "id": "Q_hJJVFahC0w"
      },
      "source": [
        "img_size=100\n",
        "data=[]\n",
        "target=[]\n",
        "\n",
        "\n",
        "for category in categories:\n",
        "    folder_path=os.path.join(data_path,category)\n",
        "    img_names=os.listdir(folder_path)\n",
        "        \n",
        "    for img_name in img_names:\n",
        "        img_path=os.path.join(folder_path,img_name)\n",
        "        img=cv2.imread(img_path)\n",
        "\n",
        "        try:\n",
        "            gray=cv2.cvtColor(img,cv2.COLOR_BGR2GRAY)           \n",
        "            #Coverting the image into gray scale\n",
        "            resized=cv2.resize(gray,(img_size,img_size))\n",
        "            #resizing the gray scale into 100x100, since we need a fixed common size for all the images in the dataset\n",
        "            data.append(resized)\n",
        "            target.append(label_dict[category])\n",
        "            #appending the image and the label(categorized) into the list (dataset)\n",
        "\n",
        "        except Exception as e:\n",
        "            print('Exception:',e)\n",
        "            #if any exception rasied, the exception will be printed here. And pass to the next image"
      ],
      "execution_count": null,
      "outputs": []
    },
    {
      "cell_type": "code",
      "metadata": {
        "id": "-zJZjtDghHuV"
      },
      "source": [
        "import numpy as np\n",
        "\n",
        "data=np.array(data)/255.0\n",
        "data=np.reshape(data,(data.shape[0],img_size,img_size,1))\n",
        "target=np.array(target)\n",
        "\n",
        "from keras.utils import np_utils\n",
        "\n",
        "new_target=np_utils.to_categorical(target)\n"
      ],
      "execution_count": null,
      "outputs": []
    },
    {
      "cell_type": "code",
      "metadata": {
        "id": "Yxxqbz7iiWP6"
      },
      "source": [
        "np.save('data',data)\n",
        "np.save('target',new_target)\n"
      ],
      "execution_count": null,
      "outputs": []
    },
    {
      "cell_type": "code",
      "metadata": {
        "id": "airl05rDiZdQ"
      },
      "source": [
        "import numpy as np\n",
        "\n",
        "data=np.load('data.npy')\n",
        "target=np.load('target.npy')\n",
        "\n",
        "#loading the save numpy arrays in the previous code\n"
      ],
      "execution_count": null,
      "outputs": []
    },
    {
      "cell_type": "code",
      "metadata": {
        "id": "NmXDqky_ieFG"
      },
      "source": [
        "from keras.models import Sequential\n",
        "from keras.layers import Dense,Activation,Flatten,Dropout\n",
        "from keras.layers import Conv2D,MaxPooling2D\n",
        "from keras.callbacks import ModelCheckpoint"
      ],
      "execution_count": null,
      "outputs": []
    },
    {
      "cell_type": "code",
      "metadata": {
        "id": "t7DzFZTfihZH"
      },
      "source": [
        "model=Sequential()\n",
        "\n",
        "model.add(Conv2D(200,(3,3),input_shape=data.shape[1:]))\n",
        "model.add(Activation('relu'))\n",
        "model.add(MaxPooling2D(pool_size=(2,2)))\n",
        "#The first CNN layer followed by Relu and MaxPooling layers\n",
        "\n",
        "model.add(Conv2D(100,(3,3)))\n",
        "model.add(Activation('relu'))\n",
        "model.add(MaxPooling2D(pool_size=(2,2)))\n",
        "#The second convolution layer followed by Relu and MaxPooling layers\n",
        "\n",
        "model.add(Flatten())\n",
        "model.add(Dropout(0.5))\n",
        "#Flatten layer to stack the output convolutions from second convolution layer\n",
        "model.add(Dense(50,activation='relu'))\n",
        "#Dense layer of 64 neurons\n",
        "model.add(Dense(2,activation='softmax'))\n",
        "#The Final layer with two outputs for two categories\n",
        "\n",
        "model.compile(loss='categorical_crossentropy',optimizer='adam',metrics=['accuracy'])"
      ],
      "execution_count": null,
      "outputs": []
    },
    {
      "cell_type": "code",
      "metadata": {
        "id": "eMn2arIminBL"
      },
      "source": [
        "from sklearn.model_selection import train_test_split\n",
        "\n",
        "train_data,test_data,train_target,test_target=train_test_split(data,target,test_size=0.1)"
      ],
      "execution_count": null,
      "outputs": []
    },
    {
      "cell_type": "code",
      "metadata": {
        "colab": {
          "base_uri": "https://localhost:8080/"
        },
        "id": "Z2h9K61Birvt",
        "outputId": "15c3ec88-cf14-4842-9e99-e89837b2b2d7"
      },
      "source": [
        "checkpoint = ModelCheckpoint('model-{epoch:03d}.model',monitor='val_loss',verbose=0,save_best_only=True,mode='auto')\n",
        "history=model.fit(train_data,train_target,epochs=20,callbacks=[checkpoint],validation_split=0.2)"
      ],
      "execution_count": null,
      "outputs": [
        {
          "output_type": "stream",
          "text": [
            "Epoch 1/20\n",
            "31/31 [==============================] - 79s 3s/step - loss: 0.7370 - accuracy: 0.5344 - val_loss: 0.6703 - val_accuracy: 0.6048\n",
            "INFO:tensorflow:Assets written to: model-001.model/assets\n",
            "Epoch 2/20\n",
            "31/31 [==============================] - 78s 3s/step - loss: 0.6233 - accuracy: 0.6503 - val_loss: 0.9490 - val_accuracy: 0.5000\n",
            "Epoch 3/20\n",
            "31/31 [==============================] - 77s 3s/step - loss: 0.4918 - accuracy: 0.7555 - val_loss: 0.3653 - val_accuracy: 0.8468\n",
            "INFO:tensorflow:Assets written to: model-003.model/assets\n",
            "Epoch 4/20\n",
            "31/31 [==============================] - 77s 2s/step - loss: 0.2258 - accuracy: 0.9243 - val_loss: 0.3838 - val_accuracy: 0.8226\n",
            "Epoch 5/20\n",
            "31/31 [==============================] - 77s 2s/step - loss: 0.2264 - accuracy: 0.9017 - val_loss: 0.3199 - val_accuracy: 0.8750\n",
            "INFO:tensorflow:Assets written to: model-005.model/assets\n",
            "Epoch 6/20\n",
            "31/31 [==============================] - 77s 3s/step - loss: 0.1592 - accuracy: 0.9386 - val_loss: 0.3160 - val_accuracy: 0.8589\n",
            "INFO:tensorflow:Assets written to: model-006.model/assets\n",
            "Epoch 7/20\n",
            "31/31 [==============================] - 77s 3s/step - loss: 0.1405 - accuracy: 0.9562 - val_loss: 0.2508 - val_accuracy: 0.9032\n",
            "INFO:tensorflow:Assets written to: model-007.model/assets\n",
            "Epoch 8/20\n",
            "31/31 [==============================] - 77s 2s/step - loss: 0.1042 - accuracy: 0.9732 - val_loss: 0.2197 - val_accuracy: 0.9194\n",
            "INFO:tensorflow:Assets written to: model-008.model/assets\n",
            "Epoch 9/20\n",
            "31/31 [==============================] - 77s 2s/step - loss: 0.0838 - accuracy: 0.9758 - val_loss: 0.1993 - val_accuracy: 0.9315\n",
            "INFO:tensorflow:Assets written to: model-009.model/assets\n",
            "Epoch 10/20\n",
            "31/31 [==============================] - 77s 3s/step - loss: 0.0482 - accuracy: 0.9814 - val_loss: 0.2765 - val_accuracy: 0.9274\n",
            "Epoch 11/20\n",
            "31/31 [==============================] - 77s 2s/step - loss: 0.0493 - accuracy: 0.9829 - val_loss: 0.2196 - val_accuracy: 0.9274\n",
            "Epoch 12/20\n",
            "31/31 [==============================] - 77s 2s/step - loss: 0.0498 - accuracy: 0.9827 - val_loss: 0.2729 - val_accuracy: 0.9153\n",
            "Epoch 13/20\n",
            "31/31 [==============================] - 77s 2s/step - loss: 0.0404 - accuracy: 0.9857 - val_loss: 0.2197 - val_accuracy: 0.9435\n",
            "Epoch 14/20\n",
            "31/31 [==============================] - 77s 3s/step - loss: 0.0279 - accuracy: 0.9915 - val_loss: 0.2122 - val_accuracy: 0.9435\n",
            "Epoch 15/20\n",
            "31/31 [==============================] - 77s 3s/step - loss: 0.0207 - accuracy: 0.9963 - val_loss: 0.2326 - val_accuracy: 0.9315\n",
            "Epoch 16/20\n",
            "31/31 [==============================] - 77s 2s/step - loss: 0.0158 - accuracy: 0.9958 - val_loss: 0.3345 - val_accuracy: 0.9274\n",
            "Epoch 17/20\n",
            "31/31 [==============================] - 77s 2s/step - loss: 0.0534 - accuracy: 0.9863 - val_loss: 0.2761 - val_accuracy: 0.9315\n",
            "Epoch 18/20\n",
            "31/31 [==============================] - 77s 3s/step - loss: 0.0332 - accuracy: 0.9873 - val_loss: 0.2387 - val_accuracy: 0.9274\n",
            "Epoch 19/20\n",
            "31/31 [==============================] - 77s 2s/step - loss: 0.0654 - accuracy: 0.9696 - val_loss: 0.2311 - val_accuracy: 0.9435\n",
            "Epoch 20/20\n",
            "31/31 [==============================] - 77s 2s/step - loss: 0.0151 - accuracy: 0.9968 - val_loss: 0.2803 - val_accuracy: 0.9355\n"
          ],
          "name": "stdout"
        }
      ]
    },
    {
      "cell_type": "code",
      "metadata": {
        "id": "I0Jk3AgH0YLR"
      },
      "source": [
        ""
      ],
      "execution_count": null,
      "outputs": []
    },
    {
      "cell_type": "code",
      "metadata": {
        "colab": {
          "base_uri": "https://localhost:8080/"
        },
        "id": "OGm9lEUb0OYq",
        "outputId": "105f23b7-f251-48ab-b926-fa74eccc1b1e"
      },
      "source": [
        "history.history['loss']"
      ],
      "execution_count": null,
      "outputs": [
        {
          "output_type": "execute_result",
          "data": {
            "text/plain": [
              "[0.7083026766777039,\n",
              " 0.5894929766654968,\n",
              " 0.4030485451221466,\n",
              " 0.24171628057956696,\n",
              " 0.19083058834075928,\n",
              " 0.15270204842090607,\n",
              " 0.14017830789089203,\n",
              " 0.0986340343952179,\n",
              " 0.08290541172027588,\n",
              " 0.06597231328487396,\n",
              " 0.04928050562739372,\n",
              " 0.04436536878347397,\n",
              " 0.0455482043325901,\n",
              " 0.036834727972745895,\n",
              " 0.023408537730574608,\n",
              " 0.028041204437613487,\n",
              " 0.03753113001585007,\n",
              " 0.03369015082716942,\n",
              " 0.05701959505677223,\n",
              " 0.016964439302682877]"
            ]
          },
          "metadata": {
            "tags": []
          },
          "execution_count": 14
        }
      ]
    },
    {
      "cell_type": "code",
      "metadata": {
        "colab": {
          "base_uri": "https://localhost:8080/"
        },
        "id": "PWRTsjI30aQd",
        "outputId": "6f196f73-e803-4eb6-d1db-b95cfc605af9"
      },
      "source": [
        "history.history['val_loss']"
      ],
      "execution_count": null,
      "outputs": [
        {
          "output_type": "execute_result",
          "data": {
            "text/plain": [
              "[0.6702963709831238,\n",
              " 0.9490276575088501,\n",
              " 0.3652646243572235,\n",
              " 0.38380709290504456,\n",
              " 0.31985047459602356,\n",
              " 0.31597742438316345,\n",
              " 0.2508326470851898,\n",
              " 0.21970075368881226,\n",
              " 0.19932779669761658,\n",
              " 0.2765423059463501,\n",
              " 0.21961501240730286,\n",
              " 0.27294689416885376,\n",
              " 0.21965989470481873,\n",
              " 0.21215075254440308,\n",
              " 0.23260168731212616,\n",
              " 0.33454495668411255,\n",
              " 0.276050865650177,\n",
              " 0.23870298266410828,\n",
              " 0.23112109303474426,\n",
              " 0.28031522035598755]"
            ]
          },
          "metadata": {
            "tags": []
          },
          "execution_count": 15
        }
      ]
    },
    {
      "cell_type": "code",
      "metadata": {
        "colab": {
          "base_uri": "https://localhost:8080/",
          "height": 279
        },
        "id": "UXTIhxQqiwaA",
        "outputId": "021a6d15-ac64-49f3-ee73-8418ccb7a97c"
      },
      "source": [
        "from matplotlib import pyplot as plt\n",
        "\n",
        "plt.plot(history.history['loss'],'r',label='training loss')\n",
        "plt.plot(history.history['val_loss'],label='validation loss')\n",
        "plt.xlabel('# epochs')\n",
        "plt.ylabel('loss')\n",
        "plt.legend()\n",
        "plt.show()"
      ],
      "execution_count": null,
      "outputs": [
        {
          "output_type": "display_data",
          "data": {
            "image/png": "[encoded data removed]",
            "text/plain": [
              "<Figure size 432x288 with 1 Axes>"
            ]
          },
          "metadata": {
            "tags": [],
            "needs_background": "light"
          }
        }
      ]
    },
    {
      "cell_type": "code",
      "metadata": {
        "colab": {
          "base_uri": "https://localhost:8080/"
        },
        "id": "9FE4MWyI1Hmr",
        "outputId": "0d960a06-b4b7-4f9c-9610-4682e93ba2a3"
      },
      "source": [
        "history.history['accuracy']"
      ],
      "execution_count": null,
      "outputs": [
        {
          "output_type": "execute_result",
          "data": {
            "text/plain": [
              "[0.5424242615699768,\n",
              " 0.6838383674621582,\n",
              " 0.8252525329589844,\n",
              " 0.9141414165496826,\n",
              " 0.9272727370262146,\n",
              " 0.9484848380088806,\n",
              " 0.9494949579238892,\n",
              " 0.9727272987365723,\n",
              " 0.9727272987365723,\n",
              " 0.973737359046936,\n",
              " 0.978787899017334,\n",
              " 0.9848484992980957,\n",
              " 0.9818181991577148,\n",
              " 0.9888888597488403,\n",
              " 0.9949495196342468,\n",
              " 0.991919219493866,\n",
              " 0.9888888597488403,\n",
              " 0.986868679523468,\n",
              " 0.9747474789619446,\n",
              " 0.9949495196342468]"
            ]
          },
          "metadata": {
            "tags": []
          },
          "execution_count": 16
        }
      ]
    },
    {
      "cell_type": "code",
      "metadata": {
        "colab": {
          "base_uri": "https://localhost:8080/"
        },
        "id": "-2AJbJPr1LE7",
        "outputId": "413eeed1-e45c-4b2d-a099-71515da98ce6"
      },
      "source": [
        "history.history['val_accuracy']"
      ],
      "execution_count": null,
      "outputs": [
        {
          "output_type": "execute_result",
          "data": {
            "text/plain": [
              "[0.6048387289047241,\n",
              " 0.5,\n",
              " 0.8467742204666138,\n",
              " 0.8225806355476379,\n",
              " 0.875,\n",
              " 0.8588709831237793,\n",
              " 0.9032257795333862,\n",
              " 0.9193548560142517,\n",
              " 0.9314516186714172,\n",
              " 0.9274193644523621,\n",
              " 0.9274193644523621,\n",
              " 0.9153226017951965,\n",
              " 0.9435483813285828,\n",
              " 0.9435483813285828,\n",
              " 0.9314516186714172,\n",
              " 0.9274193644523621,\n",
              " 0.9314516186714172,\n",
              " 0.9274193644523621,\n",
              " 0.9435483813285828,\n",
              " 0.9354838728904724]"
            ]
          },
          "metadata": {
            "tags": []
          },
          "execution_count": 17
        }
      ]
    },
    {
      "cell_type": "code",
      "metadata": {
        "colab": {
          "base_uri": "https://localhost:8080/",
          "height": 279
        },
        "id": "kn0Q1hGBotsG",
        "outputId": "e64abcf6-fbd4-4620-b565-a15efb8c78e0"
      },
      "source": [
        "plt.plot(history.history['accuracy'],'r',label='training accuracy')\n",
        "plt.plot(history.history['val_accuracy'],label='validation accuracy')\n",
        "plt.xlabel('# epochs')\n",
        "plt.ylabel('loss')\n",
        "plt.legend()\n",
        "plt.show()"
      ],
      "execution_count": null,
      "outputs": [
        {
          "output_type": "display_data",
          "data": {
            "image/png": "[encoded data removed]",
            "text/plain": [
              "<Figure size 432x288 with 1 Axes>"
            ]
          },
          "metadata": {
            "tags": [],
            "needs_background": "light"
          }
        }
      ]
    },
    {
      "cell_type": "code",
      "metadata": {
        "colab": {
          "base_uri": "https://localhost:8080/"
        },
        "id": "j3grxeH_ozKb",
        "outputId": "60a6b29b-6ea0-405d-f4ed-f8f9ee9de275"
      },
      "source": [
        "print(model.evaluate(test_data,test_target))"
      ],
      "execution_count": null,
      "outputs": [
        {
          "output_type": "stream",
          "text": [
            "5/5 [==============================] - 3s 554ms/step - loss: 0.1480 - accuracy: 0.9493\n",
            "[0.1479702889919281, 0.9492753744125366]\n"
          ],
          "name": "stdout"
        }
      ]
    }
  ]
}